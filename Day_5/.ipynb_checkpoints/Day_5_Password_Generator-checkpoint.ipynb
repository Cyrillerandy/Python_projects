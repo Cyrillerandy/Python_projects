{
 "cells": [
  {
   "cell_type": "code",
   "execution_count": 6,
   "id": "9c2b5f65-830a-4faa-8bad-992073ebc965",
   "metadata": {},
   "outputs": [
    {
     "name": "stdout",
     "output_type": "stream",
     "text": [
      "Welcome to the PyPassword Generator!\n"
     ]
    },
    {
     "name": "stdin",
     "output_type": "stream",
     "text": [
      "How many letters would you like in your password?\n",
      " 4\n",
      "How many symbols would you like?\n",
      " 4\n",
      "How many numbers would you like?\n",
      " 4\n"
     ]
    },
    {
     "name": "stdout",
     "output_type": "stream",
     "text": [
      "Your password is: (*t%fVM74+82\n"
     ]
    }
   ],
   "source": [
    "#Password Generator Project\n",
    "import random\n",
    "letters = ['a', 'b', 'c', 'd', 'e', 'f', 'g', 'h', 'i', 'j', 'k', 'l', 'm', \n",
    "           'n','o', 'p', 'q', 'r', 's', 't', 'u', 'v', 'w', 'x', 'y', 'z', \n",
    "           'A', 'B', 'C', 'D', 'E', 'F', 'G', 'H', 'I', 'J', 'K', 'L', 'M', \n",
    "           'N','O', 'P', 'Q', 'R', 'S', 'T', 'U', 'V', 'W', 'X', 'Y', 'Z']\n",
    "numbers = ['0', '1', '2', '3', '4', '5', '6', '7', '8', '9']\n",
    "symbols = ['!', '#', '$', '%', '&', '(', ')', '*', '+']\n",
    "\n",
    "print(\"Welcome to the PyPassword Generator!\")\n",
    "nr_letters= int(input(\"How many letters would you like in your password?\\n\")) \n",
    "nr_symbols = int(input(f\"How many symbols would you like?\\n\"))\n",
    "nr_numbers = int(input(f\"How many numbers would you like?\\n\"))\n",
    "\n",
    "# randomly sample from the main lists\n",
    "pass_letters = random.sample(letters, nr_letters)\n",
    "pass_symbols = random.sample(symbols, nr_symbols)\n",
    "pass_numbers = random.sample(numbers, nr_numbers)\n",
    "\n",
    "# password unshuffled\n",
    "# pass_u = pass_letters + pass_symbols + pass_numbers\n",
    "\n",
    "# pass_ustr = ''\n",
    "\n",
    "# for char in pass_u:\n",
    "#     pass_ustr += char   \n",
    "\n",
    "# shuffled/randomized password\n",
    "pass_sh = pass_letters + pass_symbols + pass_numbers\n",
    "random.shuffle(pass_sh)\n",
    "\n",
    "pass_str = ''\n",
    "\n",
    "for char in pass_sh:\n",
    "    pass_str += char\n",
    "\n",
    "#print(f'Unshuffled: {pass_ustr}')\n",
    "print(f'Your password is: {pass_str}')"
   ]
  },
  {
   "cell_type": "code",
   "execution_count": null,
   "id": "3e9ea19c-8686-432d-9d8e-ccdda3acedd7",
   "metadata": {},
   "outputs": [],
   "source": []
  }
 ],
 "metadata": {
  "kernelspec": {
   "display_name": "Python 3 (ipykernel)",
   "language": "python",
   "name": "python3"
  },
  "language_info": {
   "codemirror_mode": {
    "name": "ipython",
    "version": 3
   },
   "file_extension": ".py",
   "mimetype": "text/x-python",
   "name": "python",
   "nbconvert_exporter": "python",
   "pygments_lexer": "ipython3",
   "version": "3.11.3"
  }
 },
 "nbformat": 4,
 "nbformat_minor": 5
}
