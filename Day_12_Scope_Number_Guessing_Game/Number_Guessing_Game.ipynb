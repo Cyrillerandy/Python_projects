{
 "cells": [
  {
   "cell_type": "code",
   "execution_count": 5,
   "id": "244748bd-b964-4595-a821-68337d28de8d",
   "metadata": {},
   "outputs": [
    {
     "name": "stdout",
     "output_type": "stream",
     "text": [
      "\n",
      "   _____                       _______ _            _   _                 _               \n",
      "  / ____|                     |__   __| |          | \\ | |               | |              \n",
      " | |  __ _   _  ___  ___ ___     | |  | |__   ___  |  \\| |_   _ _ __ ___ | |__   ___ _ __ \n",
      " | | |_ | | | |/ _ \\/ __/ __|    | |  | '_ \\ / _ \\ | . ` | | | | '_ ` _ \\| '_ \\ / _ \\ '__|\n",
      " | |__| | |_| |  __/\\__ \\__ \\    | |  | | | |  __/ | |\\  | |_| | | | | | | |_) |  __/ |   \n",
      "  \\_____|\\__,_|\\___||___/___/    |_|  |_| |_|\\___| |_| \\_|\\__,_|_| |_| |_|_.__/ \\___|_|                                                                                       \n",
      "\n",
      "\n",
      "   _____                 _ _                _ \n",
      "  / ____|               | | |              | |\n",
      " | |  __  ___   ___   __| | |__  _   _  ___| |\n",
      " | | |_ |/ _ \\ / _ \\ / _` | '_ \\| | | |/ _ \\ |\n",
      " | |__| | (_) | (_) | (_| | |_) | |_| |  __/_|\n",
      "  \\_____|\\___/ \\___/ \\__,_|_.__/ \\__, |\\___(_)\n",
      "                                  __/ |       \n",
      "                                 |___/   \n",
      "\n"
     ]
    }
   ],
   "source": [
    "# My solution\n",
    "# imports\n",
    "from art import logo, goodbye\n",
    "from IPython.display import clear_output\n",
    "import random\n",
    "\n",
    "# create a function for the gameplay\n",
    "def guess_the_number():\n",
    "    # choose a number\n",
    "    chosen_num = random.randint(1, 100) \n",
    "    \n",
    "    # print the game logo and welcome message\n",
    "    print(logo)\n",
    "    print('\\nWelcome to the Number Guessing Game!')\n",
    "    print(\"\\nI'm thinking of a number between 1 and 100.\")\n",
    "\n",
    "    # choose a difficulty level\n",
    "    difficulty = input('\\nChoose a difficulty level. Type \"easy\" or \"hard\": ').lower()\n",
    "    # ensure correct difficulty is chosen\n",
    "    while difficulty not in ['easy', 'hard']:\n",
    "        difficulty = input('Invalid choice.\\nChoose a difficulty level. Type \"easy\" or \"hard\": ').lower()\n",
    "\n",
    "    # set attempts based on difficulty level\n",
    "    attempts = 0  # a starting number\n",
    "    \n",
    "    if difficulty == 'easy':\n",
    "        attempts += 10\n",
    "    elif difficulty == 'hard':\n",
    "        attempts += 5\n",
    "        \n",
    "    # loop through the attempts and guess\n",
    "    while attempts > 0:\n",
    "        print(f'\\nYou have {attempts} attempts remaining to guess the number.')\n",
    "        guess = int(input('Make a guess: '))\n",
    "\n",
    "        # check if guess is the chosen number or they're out of guesses\n",
    "        if attempts == 1 and guess != chosen_num:\n",
    "            print(\"You've run out of guesses.\")\n",
    "        elif guess > chosen_num:\n",
    "            print('Too high.\\nGuess again.')\n",
    "        elif guess < chosen_num:\n",
    "            print('Too low.\\nGuess again.')\n",
    "        elif guess == chosen_num:\n",
    "            print(f'You got it right. The answer is {chosen_num}.')\n",
    "            break\n",
    "\n",
    "        # reset the attempts\n",
    "        attempts -= 1\n",
    "\n",
    "    # restart the game\n",
    "    if guess == chosen_num or attempts == 0:\n",
    "        play_game = input('Do you want to play again? Type \"yes\" or \"no\": ').lower()\n",
    "        if play_game == 'yes':\n",
    "            clear_output()\n",
    "            guess_the_number()\n",
    "        else:\n",
    "            clear_output()\n",
    "            print(logo)\n",
    "            print(goodbye)\n",
    "    \n",
    "guess_the_number()"
   ]
  },
  {
   "cell_type": "code",
   "execution_count": 1,
   "id": "a81de67b-9981-4f74-8a1b-31638019c067",
   "metadata": {},
   "outputs": [
    {
     "name": "stdout",
     "output_type": "stream",
     "text": [
      "\n",
      "   _____                       _______ _            _   _                 _               \n",
      "  / ____|                     |__   __| |          | \\ | |               | |              \n",
      " | |  __ _   _  ___  ___ ___     | |  | |__   ___  |  \\| |_   _ _ __ ___ | |__   ___ _ __ \n",
      " | | |_ | | | |/ _ \\/ __/ __|    | |  | '_ \\ / _ \\ | . ` | | | | '_ ` _ \\| '_ \\ / _ \\ '__|\n",
      " | |__| | |_| |  __/\\__ \\__ \\    | |  | | | |  __/ | |\\  | |_| | | | | | | |_) |  __/ |   \n",
      "  \\_____|\\__,_|\\___||___/___/    |_|  |_| |_|\\___| |_| \\_|\\__,_|_| |_| |_|_.__/ \\___|_|                                                                                       \n",
      "\n",
      "Welcome to the Number Guessing Game!\n",
      "I'm thinking of a number between 1 and 100.\n",
      "Pssst, the correct answer is 98\n"
     ]
    },
    {
     "name": "stdin",
     "output_type": "stream",
     "text": [
      "Choose a difficulty. Type 'easy' or 'hard':  hard\n"
     ]
    },
    {
     "name": "stdout",
     "output_type": "stream",
     "text": [
      "You have 5 attempts remaining to guess the number.\n"
     ]
    },
    {
     "name": "stdin",
     "output_type": "stream",
     "text": [
      "Make a guess:  98\n"
     ]
    },
    {
     "name": "stdout",
     "output_type": "stream",
     "text": [
      "You got it! The answer was 98.\n"
     ]
    }
   ],
   "source": [
    "# course solution\n",
    "from random import randint\n",
    "from art import logo\n",
    "\n",
    "EASY_LEVEL_TURNS = 10\n",
    "HARD_LEVEL_TURNS = 5\n",
    "\n",
    "#Function to check user's guess against actual answer.\n",
    "def check_answer(guess, answer, turns):\n",
    "  \"\"\"checks answer against guess. Returns the number of turns remaining.\"\"\"\n",
    "  if guess > answer:\n",
    "    print(\"Too high.\")\n",
    "    return turns - 1\n",
    "  elif guess < answer:\n",
    "    print(\"Too low.\")\n",
    "    return turns - 1\n",
    "  else:\n",
    "    print(f\"You got it! The answer was {answer}.\")\n",
    "\n",
    "#Make function to set difficulty.\n",
    "def set_difficulty():\n",
    "  level = input(\"Choose a difficulty. Type 'easy' or 'hard': \")\n",
    "  if level == \"easy\":\n",
    "    return EASY_LEVEL_TURNS\n",
    "  else:\n",
    "    return HARD_LEVEL_TURNS\n",
    "\n",
    "def game():\n",
    "  print(logo)\n",
    "  #Choosing a random number between 1 and 100.\n",
    "  print(\"Welcome to the Number Guessing Game!\")\n",
    "  print(\"I'm thinking of a number between 1 and 100.\")\n",
    "  answer = randint(1, 100)\n",
    "  print(f\"Pssst, the correct answer is {answer}\") \n",
    "\n",
    "  turns = set_difficulty()\n",
    "  #Repeat the guessing functionality if they get it wrong.\n",
    "  guess = 0\n",
    "  while guess != answer:\n",
    "    print(f\"You have {turns} attempts remaining to guess the number.\")\n",
    "\n",
    "    #Let the user guess a number.\n",
    "    guess = int(input(\"Make a guess: \"))\n",
    "\n",
    "    #Track the number of turns and reduce by 1 if they get it wrong.\n",
    "    turns = check_answer(guess, answer, turns)\n",
    "    if turns == 0:\n",
    "      print(\"You've run out of guesses, you lose.\")\n",
    "      return\n",
    "    elif guess != answer:\n",
    "      print(\"Guess again.\")\n",
    "\n",
    "\n",
    "game()"
   ]
  },
  {
   "cell_type": "code",
   "execution_count": null,
   "id": "b7b6d056-d35a-4d04-a21c-a31bf44d6516",
   "metadata": {},
   "outputs": [],
   "source": []
  }
 ],
 "metadata": {
  "kernelspec": {
   "display_name": "Python 3 (ipykernel)",
   "language": "python",
   "name": "python3"
  },
  "language_info": {
   "codemirror_mode": {
    "name": "ipython",
    "version": 3
   },
   "file_extension": ".py",
   "mimetype": "text/x-python",
   "name": "python",
   "nbconvert_exporter": "python",
   "pygments_lexer": "ipython3",
   "version": "3.11.3"
  }
 },
 "nbformat": 4,
 "nbformat_minor": 5
}
