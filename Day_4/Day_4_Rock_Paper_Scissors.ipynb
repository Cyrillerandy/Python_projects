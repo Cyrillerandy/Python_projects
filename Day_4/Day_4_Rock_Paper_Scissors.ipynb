{
 "cells": [
  {
   "cell_type": "code",
   "execution_count": 25,
   "id": "f1ace13d-1ac1-4ade-89c8-4793ba116bbf",
   "metadata": {},
   "outputs": [
    {
     "name": "stdout",
     "output_type": "stream",
     "text": [
      "Let's play rock, paper, scissors.\n",
      "\n"
     ]
    },
    {
     "name": "stdin",
     "output_type": "stream",
     "text": [
      "What is your choice? Type 0 for Rock, 1 for Paper and 2 for Scissors.\n",
      " 2\n"
     ]
    },
    {
     "name": "stdout",
     "output_type": "stream",
     "text": [
      "\n",
      "Your Choice: \n",
      "\n",
      "    _______\n",
      "---'   ____)____\n",
      "          ______)\n",
      "       __________)\n",
      "      (____)\n",
      "---.__(___)\n",
      "\n",
      "Computer's choice:\n",
      "\n",
      "    _______\n",
      "---'   ____)\n",
      "      (_____)\n",
      "      (_____)\n",
      "      (____)\n",
      "---.__(___)\n",
      "\n",
      "You lose\n"
     ]
    }
   ],
   "source": [
    "# load the ascii characters for rock paper and scissors\n",
    "\n",
    "rock = '''\n",
    "    _______\n",
    "---'   ____)\n",
    "      (_____)\n",
    "      (_____)\n",
    "      (____)\n",
    "---.__(___)\n",
    "''' \n",
    "\n",
    "paper = '''\n",
    "    _______\n",
    "---'   ____)____\n",
    "          ______)\n",
    "          _______)\n",
    "         _______)\n",
    "---.__________)\n",
    "''' \n",
    "\n",
    "scissors = '''\n",
    "    _______\n",
    "---'   ____)____\n",
    "          ______)\n",
    "       __________)\n",
    "      (____)\n",
    "---.__(___)\n",
    "''' \n",
    "\n",
    "# welcome message\n",
    "print(\"Let's play rock, paper, scissors.\\n\")\n",
    "\n",
    "# try out the entire code block\n",
    "try:\n",
    "# ask user for their choice\n",
    "    your_choice = int(input('What is your choice? Type 0 for Rock, 1 for Paper and 2 for Scissors.\\n'))\n",
    "    print('\\nYour Choice: ')\n",
    "\n",
    "    # make a list of the choices\n",
    "    choices = [rock, paper, scissors]\n",
    "    \n",
    "    # print out the user's choice\n",
    "    if your_choice > 2:\n",
    "        print('\\nInvalid Choice. Try again and type 0, 1 or 2.\\n')\n",
    "    else:\n",
    "        print(choices[your_choice])\n",
    "    \n",
    "        # import random module\n",
    "        import random \n",
    "        \n",
    "        # randomly choose 1\n",
    "        computer_choice = random.choice(choices)\n",
    "        \n",
    "        print(f'Computer\\'s choice:\\n{computer_choice}')\n",
    "        \n",
    "        # let the user know if he won or lost\n",
    "        if your_choice <= 2:\n",
    "            if your_choice == 0 and computer_choice == scissors:\n",
    "                print('You win')\n",
    "            elif your_choice == 1 and computer_choice == rock:\n",
    "                print('You win')\n",
    "            elif your_choice == 2 and computer_choice == paper:\n",
    "                print('You win')\n",
    "            elif choices[your_choice] == computer_choice:\n",
    "                print(\"It's a draw\")\n",
    "            else:\n",
    "                print('You lose')\n",
    "        else:\n",
    "            print('You lose.\\nRetry with valid input')\n",
    "except ValueError:\n",
    "    print('The value you entered is not a number.\\nPlease type in 0, 1 or 2.')"
   ]
  },
  {
   "cell_type": "code",
   "execution_count": null,
   "id": "28064e9c-762b-49c8-9fe7-9b04257db99f",
   "metadata": {},
   "outputs": [],
   "source": []
  }
 ],
 "metadata": {
  "kernelspec": {
   "display_name": "Python 3 (ipykernel)",
   "language": "python",
   "name": "python3"
  },
  "language_info": {
   "codemirror_mode": {
    "name": "ipython",
    "version": 3
   },
   "file_extension": ".py",
   "mimetype": "text/x-python",
   "name": "python",
   "nbconvert_exporter": "python",
   "pygments_lexer": "ipython3",
   "version": "3.11.3"
  }
 },
 "nbformat": 4,
 "nbformat_minor": 5
}
