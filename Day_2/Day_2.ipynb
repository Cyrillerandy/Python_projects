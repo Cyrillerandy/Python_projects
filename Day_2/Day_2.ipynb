{
 "cells": [
  {
   "cell_type": "markdown",
   "id": "9e009367-6b8a-4ad5-8208-4b2f10b66e2e",
   "metadata": {},
   "source": [
    "### Tip calculator\n"
   ]
  },
  {
   "cell_type": "code",
   "execution_count": 4,
   "id": "1038c227-0248-4c5c-9035-f22aae548c59",
   "metadata": {},
   "outputs": [
    {
     "name": "stdout",
     "output_type": "stream",
     "text": [
      "Welcome to the tip calculator!\n"
     ]
    },
    {
     "name": "stdin",
     "output_type": "stream",
     "text": [
      "What was the total bill? $ 124.56\n",
      "What percentage tip would you like to give? 10, 12 or 15?  12\n",
      "How many people are to split the bill?  7\n"
     ]
    },
    {
     "name": "stdout",
     "output_type": "stream",
     "text": [
      "Each person should pay: 19.93\n"
     ]
    }
   ],
   "source": [
    "# welcome message\n",
    "print('Welcome to the tip calculator!')\n",
    "\n",
    "# ask for the total bill\n",
    "total_bill = float(input('What was the total bill? $'))\n",
    "\n",
    "# ask for percent tip \n",
    "tip = int(input('What percentage tip would you like to give? 10, 12 or 15? '))\n",
    "percent_tip = tip / 100\n",
    "bill_with_tip = total_bill * (1 + percent_tip)\n",
    "\n",
    "# ask how many people are splitting the bill\n",
    "num_people = int(input('How many people are to split the bill? '))\n",
    "\n",
    "print(f'Each person should pay: {round(bill_with_tip / num_people, 2)}')"
   ]
  },
  {
   "cell_type": "code",
   "execution_count": null,
   "id": "4e8056e3-4573-4618-8cb6-a0b6a40382de",
   "metadata": {},
   "outputs": [],
   "source": []
  }
 ],
 "metadata": {
  "kernelspec": {
   "display_name": "Python 3 (ipykernel)",
   "language": "python",
   "name": "python3"
  },
  "language_info": {
   "codemirror_mode": {
    "name": "ipython",
    "version": 3
   },
   "file_extension": ".py",
   "mimetype": "text/x-python",
   "name": "python",
   "nbconvert_exporter": "python",
   "pygments_lexer": "ipython3",
   "version": "3.11.3"
  }
 },
 "nbformat": 4,
 "nbformat_minor": 5
}
