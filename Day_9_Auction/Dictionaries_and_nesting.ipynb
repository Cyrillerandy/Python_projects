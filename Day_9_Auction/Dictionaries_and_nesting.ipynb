{
 "cells": [
  {
   "cell_type": "markdown",
   "id": "e05a3671-7d2d-4e9c-9b91-ac61085764d6",
   "metadata": {},
   "source": [
    "# Dictionaries"
   ]
  },
  {
   "cell_type": "code",
   "execution_count": 1,
   "id": "88ba7a02-8ff5-4ded-b2f2-bd2d417804be",
   "metadata": {},
   "outputs": [],
   "source": [
    "programming_dictionary = {\n",
    "    'Bug': 'An error in a program that prevents the program from running as expected.',\n",
    "    'Function': 'A piece of code that you can easily call over and over again.'\n",
    "}"
   ]
  },
  {
   "cell_type": "code",
   "execution_count": 2,
   "id": "f2754850-8bb8-46ca-8b5b-ae56a2786275",
   "metadata": {},
   "outputs": [
    {
     "data": {
      "text/plain": [
       "{'Bug': 'An error in a program that prevents the program from running as expected.',\n",
       " 'Function': 'A piece of code that you can easily call over and over again.'}"
      ]
     },
     "execution_count": 2,
     "metadata": {},
     "output_type": "execute_result"
    }
   ],
   "source": [
    "programming_dictionary"
   ]
  },
  {
   "cell_type": "code",
   "execution_count": 3,
   "id": "517825f5-ec4f-4990-818c-695d2aa49bcb",
   "metadata": {},
   "outputs": [
    {
     "name": "stdout",
     "output_type": "stream",
     "text": [
      "{'Bug': 'An error in a program that prevents the program from running as expected.', 'Function': 'A piece of code that you can easily call over and over again.', 'Loop': 'The action of doing something over and over again.'}\n"
     ]
    }
   ],
   "source": [
    "# adding elements\n",
    "programming_dictionary['Loop'] = 'The action of doing something over and over again.'\n",
    "\n",
    "print(programming_dictionary)"
   ]
  },
  {
   "cell_type": "code",
   "execution_count": 4,
   "id": "127aeb13-6f2d-4156-8468-09749f210539",
   "metadata": {},
   "outputs": [
    {
     "name": "stdout",
     "output_type": "stream",
     "text": [
      "{'Bug': 'An error in a program that prevents the program from running as expected.', 'Function': 'A piece of code that you can easily call over and over again.', 'Loop': 'The action of doing something over and over again.', 'If-else': 'Conditionals for decision making.'}\n"
     ]
    }
   ],
   "source": [
    "#or \n",
    "programming_dictionary.update({'If-else': 'Conditionals for decision making.'})\n",
    "\n",
    "print(programming_dictionary)"
   ]
  },
  {
   "cell_type": "code",
   "execution_count": 5,
   "id": "e8fbf3ea-d3ff-479c-afa6-dd8f249eba18",
   "metadata": {},
   "outputs": [
    {
     "name": "stdout",
     "output_type": "stream",
     "text": [
      "{'Bug': 'An error in a program that prevents the program from running as expected.', 'Function': 'A piece of code that you can easily call over and over again.', 'Loop': 'The action of doing something over and over again.'}\n"
     ]
    }
   ],
   "source": [
    "# deleting items\n",
    "del programming_dictionary['If-else']\n",
    "\n",
    "print(programming_dictionary)"
   ]
  },
  {
   "cell_type": "code",
   "execution_count": 6,
   "id": "ab26c63c-1add-4808-9953-3ab7775e5a67",
   "metadata": {},
   "outputs": [
    {
     "data": {
      "text/plain": [
       "{}"
      ]
     },
     "execution_count": 6,
     "metadata": {},
     "output_type": "execute_result"
    }
   ],
   "source": [
    "# create an empty one for use later\n",
    "empty = {}\n",
    "\n",
    "empty"
   ]
  },
  {
   "cell_type": "code",
   "execution_count": 7,
   "id": "4d06e958-69ec-464a-95bf-75bf1c102882",
   "metadata": {},
   "outputs": [
    {
     "name": "stdout",
     "output_type": "stream",
     "text": [
      "{'Bug': 'A moth in your computer.', 'Function': 'A piece of code that you can easily call over and over again.', 'Loop': 'The action of doing something over and over again.'}\n"
     ]
    }
   ],
   "source": [
    "# editing items\n",
    "programming_dictionary['Bug'] = 'A moth in your computer.'\n",
    "\n",
    "print(programming_dictionary)"
   ]
  },
  {
   "cell_type": "code",
   "execution_count": 8,
   "id": "5972f7df-9093-450f-abd9-da484a471350",
   "metadata": {},
   "outputs": [
    {
     "name": "stdout",
     "output_type": "stream",
     "text": [
      "Bug:\n",
      "A moth in your computer.\n",
      "-----------------------------------\n",
      "Function:\n",
      "A piece of code that you can easily call over and over again.\n",
      "-----------------------------------\n",
      "Loop:\n",
      "The action of doing something over and over again.\n",
      "-----------------------------------\n"
     ]
    }
   ],
   "source": [
    "# loop through items\n",
    "\n",
    "for key in programming_dictionary: # dictionaries return the keys be deafult\n",
    "    print(f'{key}:')               # use .values(), .keys() and .items() to be more specific\n",
    "    print(programming_dictionary[key])\n",
    "    print('-' * 35)"
   ]
  },
  {
   "cell_type": "markdown",
   "id": "febe7937-0af4-4880-b840-b3be34d66623",
   "metadata": {},
   "source": [
    "# Nesting"
   ]
  },
  {
   "cell_type": "code",
   "execution_count": 9,
   "id": "e07cd05c-c0ff-477b-b066-a96e7cba47dc",
   "metadata": {},
   "outputs": [
    {
     "data": {
      "text/plain": [
       "{'France': 'Paris', 'Germany': 'Berlin'}"
      ]
     },
     "execution_count": 9,
     "metadata": {},
     "output_type": "execute_result"
    }
   ],
   "source": [
    "# normal dict\n",
    "capitals = {\n",
    "    'France': 'Paris',\n",
    "    'Germany': 'Berlin'\n",
    "}\n",
    "\n",
    "capitals"
   ]
  },
  {
   "cell_type": "code",
   "execution_count": 10,
   "id": "d1263766-f784-46e0-b245-09c499eb3bf0",
   "metadata": {},
   "outputs": [
    {
     "data": {
      "text/plain": [
       "{'France': ['Paris', 'Lille', 'Monaco'],\n",
       " 'Germany': ['Berlin', 'Stuttgart', 'Hamburg']}"
      ]
     },
     "execution_count": 10,
     "metadata": {},
     "output_type": "execute_result"
    }
   ],
   "source": [
    "# nest a list witin a dict\n",
    "travel_log = {\n",
    "    'France': ['Paris', 'Lille', 'Monaco'],\n",
    "    'Germany': ['Berlin', 'Stuttgart', 'Hamburg']\n",
    "}\n",
    "\n",
    "travel_log"
   ]
  },
  {
   "cell_type": "code",
   "execution_count": 14,
   "id": "ebc98b9f-8a75-48a6-bec9-34fa5d9b8be5",
   "metadata": {},
   "outputs": [
    {
     "data": {
      "text/plain": [
       "{'France': {'cities_visited': ['Paris', 'Lille', 'Monaco'],\n",
       "  'total_visits': 12},\n",
       " 'Germany': {'cities_visited': ['Berlin', 'Stuttgart', 'Hamburg'],\n",
       "  'total_visits': 8}}"
      ]
     },
     "execution_count": 14,
     "metadata": {},
     "output_type": "execute_result"
    }
   ],
   "source": [
    "# nest a dictionary in a dictionary\n",
    "travel_log = {\n",
    "    'France': {\n",
    "        'cities_visited': ['Paris', 'Lille', 'Monaco'],\n",
    "        'total_visits': 12\n",
    "    },\n",
    "    'Germany': {\n",
    "        'cities_visited': ['Berlin', 'Stuttgart', 'Hamburg'], \n",
    "        'total_visits': 8\n",
    "    }\n",
    "}\n",
    "\n",
    "travel_log"
   ]
  },
  {
   "cell_type": "code",
   "execution_count": 15,
   "id": "973c0d16-2fe9-4b0d-84c7-fa242a2cc9e0",
   "metadata": {},
   "outputs": [
    {
     "data": {
      "text/plain": [
       "[{'country': 'France',\n",
       "  'cities_visited': ['Paris', 'Lille', 'Monaco'],\n",
       "  'total_visits': 12},\n",
       " {'country': 'Germany',\n",
       "  'cities_visited': ['Berlin', 'Stuttgart', 'Hamburg'],\n",
       "  'total_visits': 8}]"
      ]
     },
     "execution_count": 15,
     "metadata": {},
     "output_type": "execute_result"
    }
   ],
   "source": [
    "# nest a dictionary/ies within a list\n",
    "travel_log = [\n",
    "    {\n",
    "        'country': 'France',\n",
    "        'cities_visited': ['Paris', 'Lille', 'Monaco'],\n",
    "        'total_visits': 12\n",
    "    },\n",
    "    {\n",
    "       'country': 'Germany',\n",
    "        'cities_visited': ['Berlin', 'Stuttgart', 'Hamburg'],\n",
    "        'total_visits': 8\n",
    "    }\n",
    "]\n",
    "\n",
    "travel_log"
   ]
  },
  {
   "cell_type": "code",
   "execution_count": null,
   "id": "ddfbcaff-e1a7-49b8-a2fb-e77eb9d18562",
   "metadata": {},
   "outputs": [],
   "source": []
  }
 ],
 "metadata": {
  "kernelspec": {
   "display_name": "Python 3 (ipykernel)",
   "language": "python",
   "name": "python3"
  },
  "language_info": {
   "codemirror_mode": {
    "name": "ipython",
    "version": 3
   },
   "file_extension": ".py",
   "mimetype": "text/x-python",
   "name": "python",
   "nbconvert_exporter": "python",
   "pygments_lexer": "ipython3",
   "version": "3.11.3"
  }
 },
 "nbformat": 4,
 "nbformat_minor": 5
}
