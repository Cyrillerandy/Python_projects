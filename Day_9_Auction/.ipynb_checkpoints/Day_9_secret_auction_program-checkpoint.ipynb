{
 "cells": [
  {
   "cell_type": "code",
   "execution_count": 3,
   "id": "1ccff933-f39e-4685-b10d-16e124c24ac0",
   "metadata": {
    "scrolled": true
   },
   "outputs": [
    {
     "name": "stdout",
     "output_type": "stream",
     "text": [
      "\n",
      "The winner is steph with a bid of $2009.0\n"
     ]
    }
   ],
   "source": [
    "from art import logo\n",
    "from IPython.display import clear_output\n",
    "\n",
    "print(logo)\n",
    "\n",
    "print('Welcome to the secret auction program.')\n",
    "\n",
    "bidder_details = {}\n",
    "\n",
    "while True:\n",
    "    name = input('\\nWhat is your name? ')\n",
    "    bid = float(input('\\nWhat is your bid? $'))\n",
    "\n",
    "    bidder_details[name] = bid\n",
    "\n",
    "    someone_else = input('\\nAre there any other bidders? Type \"yes\" or \"no\".\\n').lower()\n",
    "\n",
    "    while someone_else != 'yes' and someone_else != 'no':\n",
    "        print('\\nError. Please type \"yes\" or \"no\" to continue.')\n",
    "        someone_else = input('\\nAre there any other bidders? Type \"yes\" or \"no\".\\n').lower()\n",
    "\n",
    "    if someone_else == 'no':\n",
    "        clear_output(wait = False)\n",
    "        break\n",
    "    elif someone_else == 'yes':\n",
    "        clear_output(wait = False)\n",
    "\n",
    "winning_bid = 0\n",
    "winner = ''\n",
    "\n",
    "for bidder in bidder_details:\n",
    "    bid = bidder_details[bidder]\n",
    "    if bid > winning_bid:\n",
    "        winner = bidder\n",
    "        winning_bid = bid\n",
    "\n",
    "print(f'\\nThe winner is {winner} with a bid of ${winning_bid}')"
   ]
  },
  {
   "cell_type": "code",
   "execution_count": null,
   "id": "dbc910ac-25c7-43f1-ac87-551e33b0d5a3",
   "metadata": {},
   "outputs": [],
   "source": []
  }
 ],
 "metadata": {
  "kernelspec": {
   "display_name": "Python 3 (ipykernel)",
   "language": "python",
   "name": "python3"
  },
  "language_info": {
   "codemirror_mode": {
    "name": "ipython",
    "version": 3
   },
   "file_extension": ".py",
   "mimetype": "text/x-python",
   "name": "python",
   "nbconvert_exporter": "python",
   "pygments_lexer": "ipython3",
   "version": "3.11.3"
  }
 },
 "nbformat": 4,
 "nbformat_minor": 5
}
