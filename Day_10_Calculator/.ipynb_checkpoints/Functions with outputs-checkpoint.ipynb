{
 "cells": [
  {
   "cell_type": "markdown",
   "id": "960c559e-a723-4d4b-8c40-caa025faa7e9",
   "metadata": {},
   "source": [
    "# Functions with Outputs\n",
    "\n",
    "Functions that return something after processing.\n",
    "\n",
    "Syntax example:\n",
    "\n",
    "```python\n",
    "def my_function(parameter):\n",
    "    return parameter ** 2\n",
    "\n",
    "output = my_function(3)\n",
    "``` "
   ]
  },
  {
   "cell_type": "code",
   "execution_count": 4,
   "id": "f11b9e19-aad5-4550-a677-a3758656b2f3",
   "metadata": {},
   "outputs": [
    {
     "data": {
      "text/plain": [
       "'Randy Omondi'"
      ]
     },
     "execution_count": 4,
     "metadata": {},
     "output_type": "execute_result"
    }
   ],
   "source": [
    "def format_name(f_name, l_name):\n",
    "    formatted_fname = f_name.title()\n",
    "    formatted_lname = l_name.title()\n",
    "    \n",
    "    return f'{formatted_fname} {formatted_lname}'\n",
    "\n",
    "name = format_name('rAnDy', 'oMoNdi')\n",
    "\n",
    "name"
   ]
  },
  {
   "cell_type": "code",
   "execution_count": 9,
   "id": "0f6fa408-e045-434d-934b-29bdd929d7bd",
   "metadata": {},
   "outputs": [
    {
     "data": {
      "text/plain": [
       "'Randy Omondi'"
      ]
     },
     "execution_count": 9,
     "metadata": {},
     "output_type": "execute_result"
    }
   ],
   "source": [
    "def format_name(f_name, l_name):\n",
    "    if f_name == \"\" or l_name == \"\":\n",
    "        return \"You did not enter valid inputs.\" # this is done to escape the fxn if errors arise,\n",
    "                                                 # or to display a message of what went wrong\n",
    "\n",
    "    formatted_fname = f_name.title()\n",
    "    formatted_lname = l_name.title()\n",
    "    \n",
    "    return f'{formatted_fname} {formatted_lname}'\n",
    "\n",
    "name = format_name('raNDy', 'oMoNdi')\n",
    "\n",
    "name"
   ]
  },
  {
   "cell_type": "markdown",
   "id": "433ede23-56f5-45db-8060-7189bf739bac",
   "metadata": {},
   "source": [
    "# DocStrings\n",
    "\n",
    "Explanations about the functions purpose, parameters, and return values if defined. "
   ]
  },
  {
   "cell_type": "code",
   "execution_count": 11,
   "id": "8fe5fe8c-459a-492d-a826-702cab1403f7",
   "metadata": {},
   "outputs": [
    {
     "name": "stdout",
     "output_type": "stream",
     "text": [
      "\n",
      "    Returns the input strings as capitalized outputs. \n",
      "\n",
      "    Args:\n",
      "        f_name: A string representing the first name of a person.\n",
      "        l_name: A string representing the last name of a person. \n",
      "\n",
      "    Returns:\n",
      "        str: A concatenated string of first name and last name, capitalized.\n",
      "    \n"
     ]
    }
   ],
   "source": [
    "def format_name(f_name, l_name):\n",
    "    '''\n",
    "    Returns the input strings as capitalized outputs. \n",
    "\n",
    "    Args:\n",
    "        f_name: A string representing the first name of a person.\n",
    "        l_name: A string representing the last name of a person. \n",
    "\n",
    "    Returns:\n",
    "        str: A concatenated string of first name and last name, capitalized.\n",
    "    '''\n",
    "    if f_name == \"\" or l_name == \"\":\n",
    "        return \"You did not enter valid inputs.\" # this is done to escape the fxn if errors arise,\n",
    "                                                 # or to display a message of what went wrong\n",
    "\n",
    "    formatted_fname = f_name.title()\n",
    "    formatted_lname = l_name.title()\n",
    "    \n",
    "    return f'{formatted_fname} {formatted_lname}'\n",
    "\n",
    "print(format_name.__doc__)"
   ]
  },
  {
   "cell_type": "code",
   "execution_count": null,
   "id": "686865ec-b442-42dc-bae3-4814ef572ebe",
   "metadata": {},
   "outputs": [],
   "source": []
  }
 ],
 "metadata": {
  "kernelspec": {
   "display_name": "Python 3 (ipykernel)",
   "language": "python",
   "name": "python3"
  },
  "language_info": {
   "codemirror_mode": {
    "name": "ipython",
    "version": 3
   },
   "file_extension": ".py",
   "mimetype": "text/x-python",
   "name": "python",
   "nbconvert_exporter": "python",
   "pygments_lexer": "ipython3",
   "version": "3.11.3"
  }
 },
 "nbformat": 4,
 "nbformat_minor": 5
}
