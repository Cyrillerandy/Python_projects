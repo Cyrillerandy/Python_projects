{
 "cells": [
  {
   "cell_type": "markdown",
   "id": "2f9deb55-0cf2-4860-a56d-214912ae6d4a",
   "metadata": {},
   "source": [
    "### Band name generator"
   ]
  },
  {
   "cell_type": "code",
   "execution_count": 1,
   "id": "313017e2-9ce5-48a1-a6b5-87d0b6f4f45c",
   "metadata": {},
   "outputs": [
    {
     "name": "stdout",
     "output_type": "stream",
     "text": [
      "Welcome to the Band Name Generator\n"
     ]
    },
    {
     "name": "stdin",
     "output_type": "stream",
     "text": [
      "What is the name of the city you grew up in?  Mombasa\n",
      "What is the name of your pet?  Fluffles\n"
     ]
    },
    {
     "name": "stdout",
     "output_type": "stream",
     "text": [
      "Your new band name could be Mombasa Fluffles\n"
     ]
    }
   ],
   "source": [
    "# Welcome message\n",
    "print(\"Welcome to the Band Name Generator\")\n",
    "\n",
    "# ask for the city they grew up in\n",
    "city = input('What is the name of the city you grew up in? ')\n",
    "\n",
    "# ask for the pet name\n",
    "pet = input('What is the name of your pet? ')\n",
    "\n",
    "# print out the concatenation of the two\n",
    "print(f\"Your new band name could be {city} {pet}\")"
   ]
  },
  {
   "cell_type": "code",
   "execution_count": null,
   "id": "7a61542d-fe50-4496-be71-f7df80675aed",
   "metadata": {},
   "outputs": [],
   "source": []
  }
 ],
 "metadata": {
  "kernelspec": {
   "display_name": "Python 3 (ipykernel)",
   "language": "python",
   "name": "python3"
  },
  "language_info": {
   "codemirror_mode": {
    "name": "ipython",
    "version": 3
   },
   "file_extension": ".py",
   "mimetype": "text/x-python",
   "name": "python",
   "nbconvert_exporter": "python",
   "pygments_lexer": "ipython3",
   "version": "3.11.3"
  }
 },
 "nbformat": 4,
 "nbformat_minor": 5
}
