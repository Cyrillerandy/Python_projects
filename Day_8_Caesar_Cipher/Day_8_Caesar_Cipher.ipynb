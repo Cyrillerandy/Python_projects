{
 "cells": [
  {
   "cell_type": "markdown",
   "id": "c9864614-203b-461f-ba92-c647a0054054",
   "metadata": {},
   "source": [
    "**Project Solution:**"
   ]
  },
  {
   "cell_type": "code",
   "execution_count": 48,
   "id": "aeebb63e-c90d-4185-ac0f-ea1052c35d70",
   "metadata": {
    "scrolled": true
   },
   "outputs": [
    {
     "name": "stdout",
     "output_type": "stream",
     "text": [
      "           \n",
      " ,adPPYba, ,adPPYYba,  ,adPPYba, ,adPPYba, ,adPPYYba, 8b,dPPYba,  \n",
      "a8\"     \"\" \"\"     `Y8 a8P_____88 I8[    \"\" \"\"     `Y8 88P'   \"Y8  \n",
      "8b         ,adPPPPP88 8PP\"  `\"Y8ba,  ,adPPPPP88 88          \n",
      "\"8a,   ,aa 88,    ,88 \"8b,   ,aa aa    ]8I 88,    ,88 88          \n",
      " `\"Ybbd8\"' `\"8bbdP\"Y8  `\"Ybbd8\"' `\"YbbdP\"' `\"8bbdP\"Y8 88   \n",
      "            88             88                                 \n",
      "           \"\"             88                                 \n",
      "                          88                                 \n",
      " ,adPPYba, 88 8b,dPPYba,  88,dPPYba,   ,adPPYba, 8b,dPPYba,  \n",
      "a8\"     \"\" 88 88P'    \"8a 88P'    \"8a a8P_____88 88P'   \"Y8  \n",
      "8b         88 88       d8 88       88 8PP\" 88          \n",
      "\"8a,   ,aa 88 88b,   ,a8\" 88       88 \"8b,   ,aa 88          \n",
      " `\"Ybbd8\"' 88 88`YbbdP\"'  88       88  `\"Ybbd8\"' 88          \n",
      "              88                                             \n",
      "              88           \n",
      "\n"
     ]
    },
    {
     "name": "stdin",
     "output_type": "stream",
     "text": [
      "Type 'encode' to encrypt, type 'decode' to decrypt:\n",
      " encode\n",
      "Type your message:\n",
      " hello\n",
      "Type the shift number:\n",
      " 83\n"
     ]
    },
    {
     "name": "stdout",
     "output_type": "stream",
     "text": [
      "The encoded text is mjqqt\n"
     ]
    },
    {
     "name": "stdin",
     "output_type": "stream",
     "text": [
      "Do you want to run the program again? Type \"yes\" or \"no\":  no\n"
     ]
    },
    {
     "name": "stdout",
     "output_type": "stream",
     "text": [
      "Closing program...\n",
      "Goodbye!\n"
     ]
    }
   ],
   "source": [
    "# importS\n",
    "from IPython.display import clear_output\n",
    "from art import logo\n",
    "\n",
    "# print the logo\n",
    "print(logo)\n",
    "\n",
    "# initialize a list of the alphabet\n",
    "alphabet = ['a', 'b', 'c', 'd', 'e', 'f', 'g', 'h', 'i', 'j', 'k', 'l', \n",
    "            'm', 'n', 'o', 'p', 'q', 'r', 's', 't', 'u', 'v', 'w', 'x',\n",
    "            'y', 'z']\n",
    "\n",
    "def run_program():\n",
    "    is_done = True\n",
    "    \n",
    "    while is_done:\n",
    "        # user inputs\n",
    "        # encrypt or decrypt\n",
    "        direction = input(\"Type 'encode' to encrypt, type 'decode' to decrypt:\\n\")\n",
    "    \n",
    "        if direction.lower() == 'encode' or direction.lower() == 'decode':\n",
    "            is_done = False\n",
    "        else:\n",
    "            # clear_output(wait = True)\n",
    "            print('Please type in either \"encode\" or \"decode\". Command not understood.')\n",
    "        \n",
    "    # text to decrypt\n",
    "    text = input(\"Type your message:\\n\").lower()\n",
    "    \n",
    "    # number of letter to shift by\n",
    "    shift = int(input(\"Type the shift number:\\n\"))\n",
    "\n",
    "    if shift > len(alphabet):\n",
    "        shift = shift % len(alphabet)\n",
    "\n",
    "    return direction, text, shift\n",
    "\n",
    "# first program run \n",
    "direction, text, shift = run_program()\n",
    "\n",
    "# create the function to either decrypt or encrypt\n",
    "def caesar(text_val, shift_val, direction_val):\n",
    "    result = []\n",
    "    length = len(alphabet)\n",
    "    \n",
    "    # choose whether to encrypt(encode) or decrypt(decode)\n",
    "    if direction.lower() == 'encode': \n",
    "        for val in text_val:\n",
    "            if val not in alphabet:\n",
    "                result.append(val)\n",
    "            else:\n",
    "                new_idx = alphabet.index(val) + shift_val\n",
    "                if new_idx <= length - 1:\n",
    "                    result.append(alphabet[new_idx])\n",
    "                else:\n",
    "                    result.append(alphabet[new_idx - length])   \n",
    "    elif direction.lower() == 'decode': \n",
    "        for val in text_val:\n",
    "            if val not in alphabet:\n",
    "                result.append(val)\n",
    "            else:\n",
    "                new_idx = alphabet.index(val) - shift_val\n",
    "                result.append(alphabet[new_idx])\n",
    "    \n",
    "    print(f'The {direction_val}d text is {\"\".join(result)}')\n",
    "\n",
    "# call the function\n",
    "caesar(text_val = text, shift_val  = shift, direction_val = direction)\n",
    "\n",
    "# to restart the program\n",
    "while True:\n",
    "    restart = input('Do you want to run the program again? Type \"yes\" or \"no\": ').lower()\n",
    "    if restart == 'no':\n",
    "        print(f'Closing program...\\nGoodbye!')\n",
    "        break\n",
    "    direction, text, shift = run_program()\n",
    "    caesar(text_val = text, shift_val = shift, direction_val = direction)"
   ]
  },
  {
   "cell_type": "code",
   "execution_count": null,
   "id": "ed2da7f9-1cb8-452d-acc1-8cce14af2c02",
   "metadata": {},
   "outputs": [],
   "source": []
  }
 ],
 "metadata": {
  "kernelspec": {
   "display_name": "Python 3 (ipykernel)",
   "language": "python",
   "name": "python3"
  },
  "language_info": {
   "codemirror_mode": {
    "name": "ipython",
    "version": 3
   },
   "file_extension": ".py",
   "mimetype": "text/x-python",
   "name": "python",
   "nbconvert_exporter": "python",
   "pygments_lexer": "ipython3",
   "version": "3.11.3"
  }
 },
 "nbformat": 4,
 "nbformat_minor": 5
}
