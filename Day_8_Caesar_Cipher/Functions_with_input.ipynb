{
 "cells": [
  {
   "cell_type": "code",
   "execution_count": 1,
   "id": "3b60f68c-877d-47b6-9575-4dd675f85abc",
   "metadata": {},
   "outputs": [
    {
     "name": "stdout",
     "output_type": "stream",
     "text": [
      "Hello friend.\n",
      "How are you today?\n",
      "Welcome to the platform.\n"
     ]
    }
   ],
   "source": [
    "# Review: \n",
    "# Create a function called greet(). \n",
    "# Write 3 print statements inside the function.\n",
    "# Call the greet() function and run your code.\n",
    "# with no input\n",
    "def greet():\n",
    "    print('Hello friend.')\n",
    "    print('How are you today?')\n",
    "    print('Welcome to the platform.')\n",
    "\n",
    "greet()"
   ]
  },
  {
   "cell_type": "code",
   "execution_count": 2,
   "id": "743803b7-0040-4c78-abd6-65b5497e2019",
   "metadata": {},
   "outputs": [
    {
     "name": "stdout",
     "output_type": "stream",
     "text": [
      "Hello Jonathan Hawi!\n",
      "How's your day going Jonathan Hawi\n"
     ]
    }
   ],
   "source": [
    "# with input\n",
    "def greetings(name): # parameter is what we define in the function definition\n",
    "    print('Hello {}!'.format(name))\n",
    "    print(f'How\\'s your day going {name}')\n",
    "\n",
    "greetings('Jonathan Hawi') # argument is the actual value passed during the function call"
   ]
  },
  {
   "cell_type": "code",
   "execution_count": 4,
   "id": "d862a26f-36d9-4f6a-a7a0-afe048233092",
   "metadata": {},
   "outputs": [
    {
     "name": "stdout",
     "output_type": "stream",
     "text": [
      "Hello Hawi!\n",
      "What is it like living in Nairobi?\n"
     ]
    }
   ],
   "source": [
    "# multiple inputs/parameters\n",
    "def greet_with_location(name, location):\n",
    "    print(f'Hello {name}!')\n",
    "    print('What is it like living in {loc}?'.format(loc = location))\n",
    "\n",
    "greet_with_location('Hawi', 'Nairobi')"
   ]
  },
  {
   "cell_type": "code",
   "execution_count": 5,
   "id": "29181b68-aba9-4773-9548-dc14ad3b2a2c",
   "metadata": {},
   "outputs": [
    {
     "name": "stdout",
     "output_type": "stream",
     "text": [
      "Hello Nairobi!\n",
      "What is it like living in Hawi?\n"
     ]
    }
   ],
   "source": [
    "# when we change the order of arguments, the result changes\n",
    "# that's because these are positional arguments and are executed\n",
    "# based on position\n",
    "greet_with_location('Nairobi', \"Hawi\")"
   ]
  },
  {
   "cell_type": "code",
   "execution_count": 6,
   "id": "ddde041b-2a29-499c-88a4-bcfa5cfd564b",
   "metadata": {},
   "outputs": [
    {
     "name": "stdout",
     "output_type": "stream",
     "text": [
      "Hello Hawi!\n",
      "What is it like living in Nairobi?\n"
     ]
    }
   ],
   "source": [
    "# to fix that we use keyword arguments where we \n",
    "# assign the parameter names to the argument values\n",
    "greet_with_location(location = 'Nairobi', name = 'Hawi')"
   ]
  },
  {
   "cell_type": "code",
   "execution_count": null,
   "id": "98fabfb4-0b09-45cf-bca1-e5e3107e7b9b",
   "metadata": {},
   "outputs": [],
   "source": []
  }
 ],
 "metadata": {
  "kernelspec": {
   "display_name": "Python 3 (ipykernel)",
   "language": "python",
   "name": "python3"
  },
  "language_info": {
   "codemirror_mode": {
    "name": "ipython",
    "version": 3
   },
   "file_extension": ".py",
   "mimetype": "text/x-python",
   "name": "python",
   "nbconvert_exporter": "python",
   "pygments_lexer": "ipython3",
   "version": "3.11.3"
  }
 },
 "nbformat": 4,
 "nbformat_minor": 5
}
